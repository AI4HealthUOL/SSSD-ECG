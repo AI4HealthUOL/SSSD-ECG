{
 "cells": [
  {
   "cell_type": "code",
   "execution_count": null,
   "id": "5db7cda4",
   "metadata": {},
   "outputs": [],
   "source": [
    "import torch\n",
    "import numpy as np\n",
    "from torch.autograd import Variable\n",
    "\n",
    "from models.cond_pulse2pulse import CondP2PDiscriminator\n",
    "from models.cond_pulse2pulse import CondP2PGenerator"
   ]
  },
  {
   "cell_type": "code",
   "execution_count": null,
   "id": "cc49a1c5",
   "metadata": {},
   "outputs": [],
   "source": [
    "chk_path = \"checkpoint_epoch:3000.pt\"\n",
    "\n",
    "netD = WaveGANDiscriminator(model_size=50, ngpus=1).cuda()\n",
    "netG = WaveGANGenerator(model_size=50, ngpus=1).cuda()\n",
    "\n",
    "chkpnt = torch.load(chk_path)\n",
    "\n",
    "netD.load_state_dict(chkpnt[\"netD_state_dict\"])\n",
    "netG.load_state_dict(chkpnt[\"netG_state_dict\"])"
   ]
  },
  {
   "cell_type": "code",
   "execution_count": null,
   "id": "9d0d8829",
   "metadata": {},
   "outputs": [],
   "source": [
    "x = Variable(torch.randn(32, 8, 1000)).cuda()"
   ]
  },
  {
   "cell_type": "code",
   "execution_count": null,
   "id": "80a0d66d",
   "metadata": {},
   "outputs": [],
   "source": [
    "labels = np.load('test_labels.npy')[0:32]\n",
    "labels = torch.from_numpy(labels).cuda().float()"
   ]
  },
  {
   "cell_type": "code",
   "execution_count": null,
   "id": "fc116bbd",
   "metadata": {},
   "outputs": [],
   "source": [
    "out = netG(x, labels)"
   ]
  },
  {
   "cell_type": "code",
   "execution_count": null,
   "id": "68841a32",
   "metadata": {},
   "outputs": [],
   "source": [
    "def generate_four_leads(tensor):\n",
    "    leadI = tensor[:,0,:].unsqueeze(1)\n",
    "    leadschest = tensor[:,1:7,:]\n",
    "    leadavf = tensor[:,7,:].unsqueeze(1)\n",
    "\n",
    "\n",
    "    leadII = (0.5*leadI) + leadavf\n",
    "\n",
    "    leadIII = -(0.5*leadI) + leadavf\n",
    "    leadavr = -(0.75*leadI) -(0.5*leadavf)\n",
    "    leadavl = (0.75*leadI) - (0.5*leadavf)\n",
    "\n",
    "\n",
    "    leads12 = torch.cat([leadI, leadII, leadschest, leadIII, leadavr, leadavl, leadavf], dim=1)\n",
    "\n",
    "    return leads12"
   ]
  },
  {
   "cell_type": "code",
   "execution_count": null,
   "id": "31b85638",
   "metadata": {},
   "outputs": [],
   "source": [
    "imputations12 = generate_four_leads(out)"
   ]
  }
 ],
 "metadata": {
  "kernelspec": {
   "display_name": "Python 3 (ipykernel)",
   "language": "python",
   "name": "python3"
  },
  "language_info": {
   "codemirror_mode": {
    "name": "ipython",
    "version": 3
   },
   "file_extension": ".py",
   "mimetype": "text/x-python",
   "name": "python",
   "nbconvert_exporter": "python",
   "pygments_lexer": "ipython3",
   "version": "3.10.4"
  }
 },
 "nbformat": 4,
 "nbformat_minor": 5
}
